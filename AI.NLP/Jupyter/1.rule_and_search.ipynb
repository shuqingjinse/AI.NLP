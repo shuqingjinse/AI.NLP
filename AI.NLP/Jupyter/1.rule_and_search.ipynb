{
 "cells": [
  {
   "cell_type": "markdown",
   "metadata": {},
   "source": [
    "# Rule Based\n",
    "## Sentence Generating"
   ]
  },
  {
   "cell_type": "code",
   "execution_count": 1,
   "metadata": {},
   "outputs": [],
   "source": [
    "grammar_str = \"\"\"\n",
    "sentence => noun_phrase verb_phrase\n",
    "noun_phrase => Article Adj* noun\n",
    "Adj* => null | Adj Adj*\n",
    "verb_phrase => verb noun_phrase\n",
    "Article => 一个 | 这个 | 那个\n",
    "noun => 女人 | 篮球 | 桌子 | 小猫 | 小可爱\n",
    "verb => 看着 | 坐在 | 听着 | 看见\n",
    "Adj => 蓝色的 | 好看的 | 小小的 | 有趣的\n",
    "\"\"\""
   ]
  },
  {
   "cell_type": "code",
   "execution_count": 3,
   "metadata": {},
   "outputs": [],
   "source": [
    "def parse_grammar():\n",
    "    grammar_dict = {}\n",
    "    for line in grammar_str.split('\\n'):\n",
    "        if not line: continue\n",
    "        index, terms = line.split(\"=>\")\n",
    "        grammar_dict[index.strip()] = [term.split() for term in terms.split('|')]\n",
    "    return grammar_dict"
   ]
  },
  {
   "cell_type": "code",
   "execution_count": 199,
   "metadata": {},
   "outputs": [],
   "source": [
    "import random\n",
    "def generate(grammar, target):\n",
    "    if target == \"null\": return \"\"\n",
    "    if target not in grammar: return target\n",
    "    terms = random.choice(grammar[target])\n",
    "    if terms.count == 1: return generate(grammar, terms)\n",
    "    return \"\".join([generate(grammar, term) for term in terms])"
   ]
  },
  {
   "cell_type": "code",
   "execution_count": 200,
   "metadata": {},
   "outputs": [
    {
     "name": "stdout",
     "output_type": "stream",
     "text": [
      "这个好看的女人坐在这个蓝色的蓝色的篮球\n"
     ]
    }
   ],
   "source": [
    "print(generate(parse_grammar(),'sentence'))"
   ]
  },
  {
   "cell_type": "markdown",
   "metadata": {},
   "source": [
    "# Search Based\n",
    "## DFS"
   ]
  },
  {
   "cell_type": "code",
   "execution_count": 1,
   "metadata": {},
   "outputs": [
    {
     "name": "stdout",
     "output_type": "stream",
     "text": [
      "A\n",
      "B\n",
      "C\n",
      "A => B => C\n",
      "D\n",
      "F\n"
     ]
    }
   ],
   "source": [
    "paths = {\n",
    "    'A' : ['B'], \n",
    "    'B' : ['A','C','D','F'], \n",
    "    'C' : ['B','E'],\n",
    "    'D' : ['B'],\n",
    "    'E' : ['C'],\n",
    "    'F' : ['B'],\n",
    "}\n",
    "\n",
    "def DFS(paths,visited=[],start='A',end = 'C'):\n",
    "    visited.append(start)\n",
    "    print(start)\n",
    "    if start == end: \n",
    "        print(' => '.join(visited))\n",
    "        return visited\n",
    "    while paths[start]:\n",
    "        node = paths[start].pop(0)\n",
    "        if node in visited: continue\n",
    "        DFS(paths,visited,node)\n",
    "        \n",
    "DFS(paths)"
   ]
  },
  {
   "cell_type": "markdown",
   "metadata": {},
   "source": [
    "##  BFS"
   ]
  },
  {
   "cell_type": "code",
   "execution_count": 21,
   "metadata": {
    "scrolled": true
   },
   "outputs": [
    {
     "name": "stdout",
     "output_type": "stream",
     "text": [
      "D\n",
      "B\n",
      "A\n",
      "D => B => A\n"
     ]
    }
   ],
   "source": [
    "paths = {\n",
    "    'A' : ['B'], \n",
    "    'B' : ['A','C','D','F'], \n",
    "    'C' : ['B','E'],\n",
    "    'D' : ['B'],\n",
    "    'E' : ['C'],\n",
    "    'F' : ['B'],\n",
    "}\n",
    "\n",
    "def BFS(paths,start='D',end = 'A'):\n",
    "    queue = []\n",
    "    visited = []\n",
    "    queue.append(start)\n",
    "    while queue:\n",
    "        node = queue.pop(0)\n",
    "        print(node)\n",
    "        visited.append(node)\n",
    "        if node == end:\n",
    "            return visited\n",
    "        while paths[node]:\n",
    "            next_node = paths[node].pop(0)\n",
    "            if next_node in visited: continue\n",
    "            queue.append(next_node)\n",
    "            \n",
    "print(' => '.join(BFS(paths)))"
   ]
  },
  {
   "cell_type": "markdown",
   "metadata": {},
   "source": [
    "### Search Example"
   ]
  },
  {
   "cell_type": "code",
   "execution_count": 6,
   "metadata": {},
   "outputs": [],
   "source": [
    "BJ = 'Beijing'\n",
    "SZ = 'Shenzhen'\n",
    "GZ = 'Guangzhou'\n",
    "WH = 'Wuhan'\n",
    "HLG = 'Heilongjiang'\n",
    "NY = 'New York City'\n",
    "CM = 'Chiangmai'\n",
    "SG = 'Singapore'"
   ]
  },
  {
   "cell_type": "code",
   "execution_count": 22,
   "metadata": {},
   "outputs": [],
   "source": [
    "air_route = {\n",
    "    BJ : {SZ, GZ, WH, HLG, NY}, \n",
    "    GZ : {WH, BJ, CM, SG},\n",
    "    SZ : {BJ, SG},\n",
    "    WH : {BJ, GZ},\n",
    "    HLG : {BJ},\n",
    "    CM : {GZ},\n",
    "    NY : {BJ}\n",
    "}"
   ]
  },
  {
   "cell_type": "code",
   "execution_count": 16,
   "metadata": {},
   "outputs": [
    {
     "data": {
      "image/png": "[encoded data removed]",
      "text/plain": [
       "<Figure size 432x288 with 1 Axes>"
      ]
     },
     "metadata": {},
     "output_type": "display_data"
    }
   ],
   "source": [
    "import networkx\n",
    "%matplotlib inline # 可以在Ipython编译器里直接使用，功能是可以内嵌绘图，并且可以省略掉plt.show()这一步\n",
    "\n",
    "air_route = networkx.Graph(air_route)\n",
    "networkx.draw(air_route, with_labels = True)"
   ]
  },
  {
   "cell_type": "code",
   "execution_count": 18,
   "metadata": {},
   "outputs": [],
   "source": [
    "def search_desitination(graph, start, destination):\n",
    "    paths = [[start]]\n",
    "    seen = set()\n",
    "    choosen_paths = []\n",
    "    while paths:\n",
    "        path = paths.pop(0)\n",
    "        froniter = path[-1]\n",
    "        if froniter in seen: continue        \n",
    "        for city in graph[froniter]:\n",
    "            new_path = path + [city]\n",
    "            paths.append(new_path)\n",
    "            if city == destination: return new_path\n",
    "        \n",
    "        seen.add(city)\n",
    "    return choosen_paths"
   ]
  },
  {
   "cell_type": "code",
   "execution_count": 19,
   "metadata": {},
   "outputs": [],
   "source": [
    "def draw_route(cities): return ' ✈️ => '.join(cities)"
   ]
  },
  {
   "cell_type": "code",
   "execution_count": 20,
   "metadata": {},
   "outputs": [
    {
     "data": {
      "text/plain": [
       "'Shenzhen ✈️ => Beijing ✈️ => Wuhan'"
      ]
     },
     "execution_count": 20,
     "metadata": {},
     "output_type": "execute_result"
    }
   ],
   "source": [
    "draw_route(search_desitination(air_route, SZ, WH))"
   ]
  }
 ],
 "metadata": {
  "kernelspec": {
   "display_name": "Python 3",
   "language": "python",
   "name": "python3"
  },
  "language_info": {
   "codemirror_mode": {
    "name": "ipython",
    "version": 3
   },
   "file_extension": ".py",
   "mimetype": "text/x-python",
   "name": "python",
   "nbconvert_exporter": "python",
   "pygments_lexer": "ipython3",
   "version": "3.7.0"
  }
 },
 "nbformat": 4,
 "nbformat_minor": 2
}
