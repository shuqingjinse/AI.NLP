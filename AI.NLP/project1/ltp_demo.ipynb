{
 "cells": [
  {
   "cell_type": "markdown",
   "metadata": {},
   "source": [
    "## 先编译好ltp_server并在本机端口12345运行\n",
    "### 参考Install_ltp.md"
   ]
  },
  {
   "cell_type": "code",
   "execution_count": 37,
   "metadata": {},
   "outputs": [],
   "source": [
    "import requests as req\n",
    "import json"
   ]
  },
  {
   "cell_type": "code",
   "execution_count": 54,
   "metadata": {},
   "outputs": [],
   "source": [
    "# f=json/xml 代表返回格式\n",
    "# t=分词（ws）,词性标注（pos），命名实体识别（ner），依存句法分析（dp），语义角色标注（srl）或者全部任务（all）\n",
    "res = req.post(url='http://127.0.0.1:12345/ltp',data=\n",
    "               str('f=json&t=all&s=现在苹果手机在全世界销量正在被华为手机慢慢赶超，两家公司的高管都发表了各自的看法。库克认为华为手机越来越好了。余承东说苹果手机真的贵。'\n",
    "                  ).encode('utf-8'))\n",
    "res_obj = json.loads(res.text)"
   ]
  },
  {
   "cell_type": "code",
   "execution_count": 60,
   "metadata": {},
   "outputs": [
    {
     "data": {
      "text/plain": [
       "[{'arg': [],\n",
       "  'cont': '库克',\n",
       "  'id': 0,\n",
       "  'ne': 'S-Nh',\n",
       "  'parent': 1,\n",
       "  'pos': 'nh',\n",
       "  'relate': 'SBV'},\n",
       " {'arg': [{'beg': 0, 'end': 0, 'id': 0, 'type': 'A0'},\n",
       "   {'beg': 2, 'end': 6, 'id': 1, 'type': 'A1'}],\n",
       "  'cont': '认为',\n",
       "  'id': 1,\n",
       "  'ne': 'O',\n",
       "  'parent': -1,\n",
       "  'pos': 'v',\n",
       "  'relate': 'HED'},\n",
       " {'arg': [],\n",
       "  'cont': '华为',\n",
       "  'id': 2,\n",
       "  'ne': 'O',\n",
       "  'parent': 3,\n",
       "  'pos': 'nz',\n",
       "  'relate': 'ATT'},\n",
       " {'arg': [],\n",
       "  'cont': '手机',\n",
       "  'id': 3,\n",
       "  'ne': 'O',\n",
       "  'parent': 5,\n",
       "  'pos': 'n',\n",
       "  'relate': 'SBV'},\n",
       " {'arg': [],\n",
       "  'cont': '越来越',\n",
       "  'id': 4,\n",
       "  'ne': 'O',\n",
       "  'parent': 5,\n",
       "  'pos': 'd',\n",
       "  'relate': 'ADV'},\n",
       " {'arg': [{'beg': 2, 'end': 3, 'id': 0, 'type': 'A0'},\n",
       "   {'beg': 4, 'end': 4, 'id': 1, 'type': 'ADV'}],\n",
       "  'cont': '好',\n",
       "  'id': 5,\n",
       "  'ne': 'O',\n",
       "  'parent': 1,\n",
       "  'pos': 'a',\n",
       "  'relate': 'VOB'},\n",
       " {'arg': [],\n",
       "  'cont': '了',\n",
       "  'id': 6,\n",
       "  'ne': 'O',\n",
       "  'parent': 5,\n",
       "  'pos': 'u',\n",
       "  'relate': 'RAD'},\n",
       " {'arg': [],\n",
       "  'cont': '；',\n",
       "  'id': 7,\n",
       "  'ne': 'O',\n",
       "  'parent': 1,\n",
       "  'pos': 'wp',\n",
       "  'relate': 'WP'}]"
      ]
     },
     "execution_count": 60,
     "metadata": {},
     "output_type": "execute_result"
    }
   ],
   "source": [
    "res_obj[0]"
   ]
  },
  {
   "cell_type": "code",
   "execution_count": 40,
   "metadata": {},
   "outputs": [],
   "source": [
    "head_words = ['表示','指出','认为','坦言','告诉','看来','透露','介绍','明说','说','强调','所说','提到','说道','称','声称','建议','呼吁',\n",
    "              '提及','地说','直言','普遍认为','批评','重申','提出','明确指出','觉得','宣称','猜测','特别强调','写道','引用','相信',\n",
    "              '暗示','解释','谈到','深知','称赞','感慨','主张','还称','中称','指责','披露','明确提出','描述','提醒','深有体会','爆料']"
   ]
  },
  {
   "cell_type": "code",
   "execution_count": 56,
   "metadata": {},
   "outputs": [],
   "source": [
    "sentence = \"\".join([word_obj['cont'] for word_obj in res_obj[0][0]])"
   ]
  },
  {
   "cell_type": "code",
   "execution_count": 57,
   "metadata": {},
   "outputs": [],
   "source": [
    "def trim_end_period(text):\n",
    "    if not text:\n",
    "        return text\n",
    "    _len = len(text)\n",
    "    if text[_len-1] in ['。','；','！']:\n",
    "        return text[:_len-1]"
   ]
  },
  {
   "cell_type": "code",
   "execution_count": 58,
   "metadata": {},
   "outputs": [
    {
     "data": {
      "text/plain": [
       "'现在苹果手机在全世界销量正在被华为手机慢慢赶超，两家公司的高管都发表了各自的看法'"
      ]
     },
     "execution_count": 58,
     "metadata": {},
     "output_type": "execute_result"
    }
   ],
   "source": [
    "trim_end_period(sentence)"
   ]
  },
  {
   "cell_type": "code",
   "execution_count": 61,
   "metadata": {},
   "outputs": [],
   "source": [
    "import re\n",
    "\n",
    "def split_sentences(text):\n",
    "    sentences = re.split('(。|！|\\!|\\.|？|\\?)',text) \n",
    " \n",
    "    new_sents = []\n",
    "    for i in range(int(len(sentences)/2)):\n",
    "        sent = sentences[2*i] + sentences[2*i+1]\n",
    "        new_sents.append(sent)\n",
    "    return new_sents"
   ]
  },
  {
   "cell_type": "code",
   "execution_count": 65,
   "metadata": {},
   "outputs": [],
   "source": [
    "import jieba\n",
    "\n",
    "def get_target_sentences(sentences):\n",
    "    target_sentences = []\n",
    "    for sent in sentences:\n",
    "        words = jieba.cut(sent)\n",
    "        if len([word for word in words if word in head_words]) > 0:\n",
    "            target_sentences.append(sent)\n",
    "    return target_sentences"
   ]
  },
  {
   "cell_type": "code",
   "execution_count": 66,
   "metadata": {},
   "outputs": [
    {
     "name": "stderr",
     "output_type": "stream",
     "text": [
      "Building prefix dict from the default dictionary ...\n",
      "Loading model from cache C:\\Users\\Mark\\AppData\\Local\\Temp\\jieba.cache\n",
      "Loading model cost 0.922 seconds.\n",
      "Prefix dict has been built succesfully.\n"
     ]
    },
    {
     "data": {
      "text/plain": [
       "['库克认为华为手机越来越好了。', '余承东说苹果手机真的贵。']"
      ]
     },
     "execution_count": 66,
     "metadata": {},
     "output_type": "execute_result"
    }
   ],
   "source": [
    "get_target_sentences(split_sentences(\"现在苹果手机在全世界销量正在被华为手机慢慢赶超，两家公司的高管都发表了各自的看法。库克认为华为手机越来越好了。余承东说苹果手机真的贵。\"))"
   ]
  },
  {
   "cell_type": "code",
   "execution_count": null,
   "metadata": {},
   "outputs": [],
   "source": []
  },
  {
   "cell_type": "code",
   "execution_count": null,
   "metadata": {},
   "outputs": [],
   "source": []
  },
  {
   "cell_type": "code",
   "execution_count": null,
   "metadata": {},
   "outputs": [],
   "source": []
  },
  {
   "cell_type": "code",
   "execution_count": null,
   "metadata": {},
   "outputs": [],
   "source": []
  },
  {
   "cell_type": "code",
   "execution_count": null,
   "metadata": {},
   "outputs": [],
   "source": []
  }
 ],
 "metadata": {
  "kernelspec": {
   "display_name": "Python 3",
   "language": "python",
   "name": "python3"
  },
  "language_info": {
   "codemirror_mode": {
    "name": "ipython",
    "version": 3
   },
   "file_extension": ".py",
   "mimetype": "text/x-python",
   "name": "python",
   "nbconvert_exporter": "python",
   "pygments_lexer": "ipython3",
   "version": "3.7.0"
  }
 },
 "nbformat": 4,
 "nbformat_minor": 2
}
